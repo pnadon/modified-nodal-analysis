{
 "cells": [
  {
   "cell_type": "markdown",
   "metadata": {},
   "source": [
    "# Modified Nodal Analysis: Project Report\n",
    "Author: Philippe Nadon\n",
    "\n",
    "Date: Nov 20, 2019"
   ]
  },
  {
   "cell_type": "markdown",
   "metadata": {},
   "source": [
    "# Project Description\n",
    "## Introduction\n",
    "Oftentimes in electrical engineering, the voltage at each node in a circuit needs to be known to understand how the circuit works. As the complexity of the circuit grows, it becomes increasingly diﬃcult or even impossible to use many of the common ways of solving the circuit, let alone doing it by hand.\n",
    "\n",
    "## Problem Definition\n",
    "To solve this problem one would need to take a circuit and represent it in a textual manner (ie. a dataframe).\n",
    "\n",
    "The dataframe would then need to be fed into an algorithm, which analyzes each component and outputs the value of every unknown in the circuit (eg. the voltage at each node) based on the relationship between each component, at discrete time intervals to simulate the current ﬂow throughout the circuit.\n",
    "\n",
    "The challenge of such a tool, is attempting to speed up the simulation of the circuit, since due to the data dependency between each time step, one cannot distribute the work per time step to multiple processes. The most parallelizable area is solving the system of linear equations.\n",
    "\n",
    "## Solution\n",
    "Thus, a solution is to algorithmically implement Modiﬁed Nodal Analysis (MNA); a technique which is guaranteed to solve any circuit. To speed up computation time, the MNA implementation can be parallelized, which is greatly appreciated when working with very large and complex circuits.\n",
    "\n",
    "The way the MNA algorithm works is that it takes the textual representation of the circuit, assembles a system of linear equations based oﬀ the known values of the components in the circuit, and solves for the unknowns in these equations. Due to the variation in the current sources, the voltage and current will vary in the circuit with respect to time, and thus the solver will repeatedly solve for these unknowns at each time step.\n",
    "\n",
    "Thus, the computation resembles the form of Ax = b."
   ]
  },
  {
   "cell_type": "markdown",
   "metadata": {},
   "source": [
    "# Introduction to Tool\n",
    "This project explores methods in which one can implement a circuit analysis tool, using [Modified Nodal Analysis](https://en.wikipedia.org/wiki/Modified_nodal_analysis). A large portion of the work in this project is thanks to [this tutorial](https://lpsa.swarthmore.edu/Systems/Electrical/mna/MNA1.html), which was immensely useful in developing this software.\n",
    "\n",
    "The code was implemented in Python, using the typical scientific libraries (Numpy, Scipy, Pandas), as well as CuPy, which serves as a wrapper for Python code to interact with CUDA.\n",
    "\n",
    "# Techniques Used\n",
    "## Modified Nodal Analysis\n",
    "The algorithm uses Modified Nodal Analysis to construct a system of linear equations, which is then solved on the CPU or GPU. As a result, both algorithm design and parallelism were part of the learning experience for making this tool.\n",
    "\n",
    "## Random Circuit Generator\n",
    "To test for varying sizes and densities of circuits, a random circuit generator was developed. This circuit generator ensures that any two nodes on the circuit forms a cycle, and that the distribution of connections is well varied and distributed, using various algorithms as well as a [gamma distribution](https://docs.scipy.org/doc/numpy-1.15.0/reference/generated/numpy.random.gamma.html). Thus, this project also involves some graph theory.\n",
    "\n",
    "## CUDA Sparse Linear Solver\n",
    "Both a [CPU-based solver](https://docs.scipy.org/doc/scipy-0.14.0/reference/generated/scipy.sparse.linalg.lsqr.html) and a [GPU-based solver](https://docs-cupy.chainer.org/en/stable/reference/generated/cupyx.scipy.sparse.linalg.lsqr.html) were used, to compare the performance of both. Some knowledge on how CUDA works was required to use the GPU-based solver, which will be explained below."
   ]
  },
  {
   "cell_type": "markdown",
   "metadata": {},
   "source": [
    "# About CUDA\n",
    "The following information is from Cheng, Jie. “Programming Massively Parallel Processors. A Hands-on Approach.” *Scalable Computing: Practice and Experience 11* (2010): n. pag.\n",
    "\n",
    "CUDA is a parallel computing platform released by NVIDIA in 2007, and was designed to tackle numerically-intensive tasks in parallel. CUDA offers developers an interface where they can directly execute code using the cores on a GPU. Because a GPU has many more cores than a CPU, its total throughput is orders of magnitude greater than that of a typical CPU. Since GPUs are typically used for graphics processing, they are especially adept at matrix computations, and thus performing linear solves on a GPU should have some real-world advantages over typical CPUs.\n",
    "\n",
    "One significant bottleneck to CUDA computing, is the latency between beginning the transfer of data to the GPU through the PCIe lanes, and beginning the computation on the GPU. High levels of memory transfer between main memory and the dedicated GPU memory can slow down the computation, and so one must ensure that the amount of time spent transferring data is minimal."
   ]
  },
  {
   "cell_type": "markdown",
   "metadata": {},
   "source": [
    "# Specifications of Hardware Used\n",
    "Intel i5 4690, 4 cores at 3.5GHz, turbo boosting up to 3.9GHz\n",
    "16GB DDR3 main memory\n",
    "NVIDIA GTX 970 with 4GB of GDDR5 memory, 1664 CUDA cores at 1050MHz"
   ]
  },
  {
   "cell_type": "markdown",
   "metadata": {},
   "source": [
    "# Results\n",
    "The results are displayed below, first is the resulting CSV containing the times for each type of solver, per matrix size and node density:"
   ]
  },
  {
   "cell_type": "code",
   "execution_count": 11,
   "metadata": {},
   "outputs": [],
   "source": [
    "import pandas as pd\n",
    "import numpy as np\n",
    "import seaborn as sns\n",
    "import matplotlib.pyplot as plt\n",
    "plt.rcParams['figure.figsize'] = [16,10]"
   ]
  },
  {
   "cell_type": "code",
   "execution_count": 12,
   "metadata": {
    "scrolled": false
   },
   "outputs": [
    {
     "data": {
      "text/html": [
       "<div>\n",
       "<style scoped>\n",
       "    .dataframe tbody tr th:only-of-type {\n",
       "        vertical-align: middle;\n",
       "    }\n",
       "\n",
       "    .dataframe tbody tr th {\n",
       "        vertical-align: top;\n",
       "    }\n",
       "\n",
       "    .dataframe thead th {\n",
       "        text-align: right;\n",
       "    }\n",
       "</style>\n",
       "<table border=\"1\" class=\"dataframe\">\n",
       "  <thead>\n",
       "    <tr style=\"text-align: right;\">\n",
       "      <th></th>\n",
       "      <th>fname</th>\n",
       "      <th>matrix_size</th>\n",
       "      <th>num_nodes</th>\n",
       "      <th>density</th>\n",
       "      <th>num_components</th>\n",
       "      <th>processor</th>\n",
       "      <th>total</th>\n",
       "      <th>transfer</th>\n",
       "    </tr>\n",
       "  </thead>\n",
       "  <tbody>\n",
       "    <tr>\n",
       "      <td>0</td>\n",
       "      <td>rand_data/rand_size-003_density-002.csv</td>\n",
       "      <td>2</td>\n",
       "      <td>3</td>\n",
       "      <td>2</td>\n",
       "      <td>3</td>\n",
       "      <td>cuda</td>\n",
       "      <td>0.691517</td>\n",
       "      <td>0.245225</td>\n",
       "    </tr>\n",
       "    <tr>\n",
       "      <td>1</td>\n",
       "      <td>rand_data/rand_size-003_density-002.csv</td>\n",
       "      <td>2</td>\n",
       "      <td>3</td>\n",
       "      <td>2</td>\n",
       "      <td>3</td>\n",
       "      <td>cpu</td>\n",
       "      <td>0.000931</td>\n",
       "      <td>0.000387</td>\n",
       "    </tr>\n",
       "    <tr>\n",
       "      <td>2</td>\n",
       "      <td>rand_data/rand_size-004_density-002.csv</td>\n",
       "      <td>3</td>\n",
       "      <td>4</td>\n",
       "      <td>4</td>\n",
       "      <td>6</td>\n",
       "      <td>cuda</td>\n",
       "      <td>0.002700</td>\n",
       "      <td>0.000763</td>\n",
       "    </tr>\n",
       "    <tr>\n",
       "      <td>3</td>\n",
       "      <td>rand_data/rand_size-004_density-002.csv</td>\n",
       "      <td>3</td>\n",
       "      <td>4</td>\n",
       "      <td>4</td>\n",
       "      <td>6</td>\n",
       "      <td>cpu</td>\n",
       "      <td>0.000812</td>\n",
       "      <td>0.000367</td>\n",
       "    </tr>\n",
       "    <tr>\n",
       "      <td>4</td>\n",
       "      <td>rand_data/rand_size-005_density-002.csv</td>\n",
       "      <td>7</td>\n",
       "      <td>5</td>\n",
       "      <td>5</td>\n",
       "      <td>9</td>\n",
       "      <td>cuda</td>\n",
       "      <td>0.002085</td>\n",
       "      <td>0.000699</td>\n",
       "    </tr>\n",
       "    <tr>\n",
       "      <td>...</td>\n",
       "      <td>...</td>\n",
       "      <td>...</td>\n",
       "      <td>...</td>\n",
       "      <td>...</td>\n",
       "      <td>...</td>\n",
       "      <td>...</td>\n",
       "      <td>...</td>\n",
       "      <td>...</td>\n",
       "    </tr>\n",
       "    <tr>\n",
       "      <td>211</td>\n",
       "      <td>rand_data/rand_size-020_density-010.csv</td>\n",
       "      <td>3544</td>\n",
       "      <td>20</td>\n",
       "      <td>1024</td>\n",
       "      <td>10237</td>\n",
       "      <td>cpu</td>\n",
       "      <td>1.190036</td>\n",
       "      <td>0.005590</td>\n",
       "    </tr>\n",
       "    <tr>\n",
       "      <td>213</td>\n",
       "      <td>rand_data/rand_size-021_density-010.csv</td>\n",
       "      <td>5185</td>\n",
       "      <td>21</td>\n",
       "      <td>1448</td>\n",
       "      <td>14476</td>\n",
       "      <td>cpu</td>\n",
       "      <td>2.108919</td>\n",
       "      <td>0.008758</td>\n",
       "    </tr>\n",
       "    <tr>\n",
       "      <td>215</td>\n",
       "      <td>rand_data/rand_size-022_density-010.csv</td>\n",
       "      <td>7069</td>\n",
       "      <td>22</td>\n",
       "      <td>2048</td>\n",
       "      <td>20476</td>\n",
       "      <td>cpu</td>\n",
       "      <td>3.590407</td>\n",
       "      <td>0.012938</td>\n",
       "    </tr>\n",
       "    <tr>\n",
       "      <td>217</td>\n",
       "      <td>rand_data/rand_size-023_density-010.csv</td>\n",
       "      <td>10274</td>\n",
       "      <td>23</td>\n",
       "      <td>2896</td>\n",
       "      <td>28956</td>\n",
       "      <td>cpu</td>\n",
       "      <td>10.164958</td>\n",
       "      <td>0.018415</td>\n",
       "    </tr>\n",
       "    <tr>\n",
       "      <td>219</td>\n",
       "      <td>rand_data/rand_size-024_density-010.csv</td>\n",
       "      <td>14384</td>\n",
       "      <td>24</td>\n",
       "      <td>4096</td>\n",
       "      <td>40956</td>\n",
       "      <td>cpu</td>\n",
       "      <td>17.192035</td>\n",
       "      <td>0.025456</td>\n",
       "    </tr>\n",
       "  </tbody>\n",
       "</table>\n",
       "<p>153 rows × 8 columns</p>\n",
       "</div>"
      ],
      "text/plain": [
       "                                       fname  matrix_size  num_nodes  density  \\\n",
       "0    rand_data/rand_size-003_density-002.csv            2          3        2   \n",
       "1    rand_data/rand_size-003_density-002.csv            2          3        2   \n",
       "2    rand_data/rand_size-004_density-002.csv            3          4        4   \n",
       "3    rand_data/rand_size-004_density-002.csv            3          4        4   \n",
       "4    rand_data/rand_size-005_density-002.csv            7          5        5   \n",
       "..                                       ...          ...        ...      ...   \n",
       "211  rand_data/rand_size-020_density-010.csv         3544         20     1024   \n",
       "213  rand_data/rand_size-021_density-010.csv         5185         21     1448   \n",
       "215  rand_data/rand_size-022_density-010.csv         7069         22     2048   \n",
       "217  rand_data/rand_size-023_density-010.csv        10274         23     2896   \n",
       "219  rand_data/rand_size-024_density-010.csv        14384         24     4096   \n",
       "\n",
       "     num_components processor      total  transfer  \n",
       "0                 3      cuda   0.691517  0.245225  \n",
       "1                 3       cpu   0.000931  0.000387  \n",
       "2                 6      cuda   0.002700  0.000763  \n",
       "3                 6       cpu   0.000812  0.000367  \n",
       "4                 9      cuda   0.002085  0.000699  \n",
       "..              ...       ...        ...       ...  \n",
       "211           10237       cpu   1.190036  0.005590  \n",
       "213           14476       cpu   2.108919  0.008758  \n",
       "215           20476       cpu   3.590407  0.012938  \n",
       "217           28956       cpu  10.164958  0.018415  \n",
       "219           40956       cpu  17.192035  0.025456  \n",
       "\n",
       "[153 rows x 8 columns]"
      ]
     },
     "execution_count": 12,
     "metadata": {},
     "output_type": "execute_result"
    }
   ],
   "source": [
    "df = pd.read_csv(\"stats.csv\")\n",
    "df = df.dropna()\n",
    "df"
   ]
  },
  {
   "cell_type": "markdown",
   "metadata": {},
   "source": [
    "Plotting the time taken versus the matrix size gives us the following:"
   ]
  },
  {
   "cell_type": "code",
   "execution_count": 19,
   "metadata": {
    "scrolled": true
   },
   "outputs": [
    {
     "data": {
      "text/plain": [
       "<matplotlib.axes._subplots.AxesSubplot at 0x1311bae10>"
      ]
     },
     "execution_count": 19,
     "metadata": {},
     "output_type": "execute_result"
    },
    {
     "data": {
      "image/png": "[encoded data removed]",
      "text/plain": [
       "<Figure size 1152x720 with 1 Axes>"
      ]
     },
     "metadata": {
      "needs_background": "light"
     },
     "output_type": "display_data"
    }
   ],
   "source": [
    "sns.scatterplot(x=\"matrix_size\", y=\"total\", hue=\"density\", style=\"processor\", data=df)"
   ]
  },
  {
   "cell_type": "markdown",
   "metadata": {},
   "source": [
    "- The avg_connectivity represents the average number of connections each node has, as the average connectivity increases, so does the complexity and density of the matrix.\n",
    "- processor denotes which processor was used to compute the solution, either the GPU or the CPU\n",
    "- The matrix size is simply the height or width of the A matrix\n",
    "- total denotes the total computation time required to solve the linear system, including data transfer to each respective processor"
   ]
  },
  {
   "cell_type": "markdown",
   "metadata": {},
   "source": [
    "# Analysis and Conclusion\n",
    "\n",
    "As we can see, oftentimes the GPU is far faster than the CPU. However, at very large matrix sizes this becomes problematic, and the data transfer overhead becomes far more dominant than the linear solver. As a result, the CPU becomes more efficient, as the GPU must pull memory from main memory before performing computations, which is a costly task.\n",
    "\n",
    "Another problem is due to the large size of some matrices, and the much smaller amount of memory on teh GPU (4GB) versus main memory (16GB), the memory cost of parallelization may not be worthwhile. As a program is parallelized, the memory costs increase (since each independant procedure must obtain its own version of the code and initialize its own local variables), and so obtaining a GPU which contains more memory may be worthwhile.\n",
    "\n",
    "The Python wrapper may also have some overheard, and could be more efficient. Using a lower-level package may be more complicated but result in faster computations. However, comparing Python GPU packages is outside the scope of this project."
   ]
  }
 ],
 "metadata": {
  "kernelspec": {
   "display_name": "Python 3",
   "language": "python",
   "name": "python3"
  },
  "language_info": {
   "codemirror_mode": {
    "name": "ipython",
    "version": 3
   },
   "file_extension": ".py",
   "mimetype": "text/x-python",
   "name": "python",
   "nbconvert_exporter": "python",
   "pygments_lexer": "ipython3",
   "version": "3.7.5"
  }
 },
 "nbformat": 4,
 "nbformat_minor": 2
}
