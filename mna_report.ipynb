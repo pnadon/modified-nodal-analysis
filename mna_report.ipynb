{
 "cells": [
  {
   "cell_type": "markdown",
   "metadata": {},
   "source": [
    "# Modified Nodal Analysis: Project Report\n",
    "Author: Philippe Nadon\n",
    "\n",
    "Date: Nov 20, 2019"
   ]
  },
  {
   "cell_type": "markdown",
   "metadata": {},
   "source": [
    "# Project Description\n",
    "## Introduction\n",
    "Oftentimes in electrical engineering, the voltage at each node in a circuit needs to be known to understand how the circuit works. As the complexity of the circuit grows, it becomes increasingly diﬃcult or even impossible to use many of the common ways of solving the circuit, let alone doing it by hand.\n",
    "\n",
    "## Problem Definition\n",
    "To solve this problem one would need to take a circuit and represent it in a textual manner (ie. a dataframe).\n",
    "\n",
    "The dataframe would then need to be fed into an algorithm, which analyzes each component and outputs the value of every unknown in the circuit (eg. the voltage at each node) based on the relationship between each component, at discrete time intervals to simulate the current ﬂow throughout the circuit.\n",
    "\n",
    "The challenge of such a tool, is attempting to speed up the simulation of the circuit, since due to the data dependency between each time step, one cannot distribute the work per time step to multiple processes. The most parallelizable area is solving the system of linear equations.\n",
    "\n",
    "## Solution\n",
    "Thus, a solution is to algorithmically implement Modiﬁed Nodal Analysis (MNA); a technique which is guaranteed to solve any circuit. To speed up computation time, the MNA implementation can be parallelized, which is greatly appreciated when working with very large and complex circuits.\n",
    "\n",
    "The way the MNA algorithm works is that it takes the textual representation of the circuit, assembles a system of linear equations based oﬀ the known values of the components in the circuit, and solves for the unknowns in these equations. Due to the variation in the current sources, the voltage and current will vary in the circuit with respect to time, and thus the solver will repeatedly solve for these unknowns at each time step.\n",
    "\n",
    "Thus, the computation resembles the form of Ax = b."
   ]
  },
  {
   "cell_type": "markdown",
   "metadata": {},
   "source": [
    "# Introduction to Tool\n",
    "This project explores methods in which one can implement a circuit analysis tool, using [Modified Nodal Analysis](https://en.wikipedia.org/wiki/Modified_nodal_analysis). A large portion of the work in this project is thanks to [this tutorial](https://lpsa.swarthmore.edu/Systems/Electrical/mna/MNA1.html), which was immensely useful in developing this software.\n",
    "\n",
    "The code was implemented in Python, using the typical scientific libraries (Numpy, Scipy, Pandas), as well as CuPy, which serves as a wrapper for Python code to interact with CUDA.\n",
    "\n",
    "# Techniques Used\n",
    "## Modified Nodal Analysis\n",
    "The algorithm uses Modified Nodal Analysis to construct a system of linear equations, which is then solved on the CPU or GPU. As a result, both algorithm design and parallelism were part of the learning experience for making this tool.\n",
    "\n",
    "## Random Circuit Generator\n",
    "To test for varying sizes and densities of circuits, a random circuit generator was developed. This circuit generator ensures that any two nodes on the circuit forms a cycle, and that the distribution of connections is well varied and distributed, using various algorithms as well as a [gamma distribution](https://docs.scipy.org/doc/numpy-1.15.0/reference/generated/numpy.random.gamma.html). Thus, this project also involves some graph theory.\n",
    "\n",
    "## CUDA Sparse Linear Solver\n",
    "Both a [CPU-based solver](https://docs.scipy.org/doc/scipy-0.14.0/reference/generated/scipy.sparse.linalg.lsqr.html) and a [GPU-based solver](https://docs-cupy.chainer.org/en/stable/reference/generated/cupyx.scipy.sparse.linalg.lsqr.html) were used, to compare the performance of both. Some knowledge on how CUDA works was required to use the GPU-based solver, which will be explained after the data below."
   ]
  },
  {
   "cell_type": "markdown",
   "metadata": {},
   "source": [
    "# Results\n",
    "The results are displayed below, first is the resulting CSV containing the times for each type of solver, per matrix size and node density:"
   ]
  },
  {
   "cell_type": "code",
   "execution_count": 1,
   "metadata": {},
   "outputs": [],
   "source": [
    "import pandas as pd\n",
    "import numpy as np\n",
    "import seaborn as sns\n",
    "import matplotlib.pyplot as plt\n",
    "plt.rcParams['figure.figsize'] = [16,10]"
   ]
  },
  {
   "cell_type": "code",
   "execution_count": 2,
   "metadata": {
    "scrolled": true
   },
   "outputs": [
    {
     "data": {
      "text/html": [
       "<div>\n",
       "<style scoped>\n",
       "    .dataframe tbody tr th:only-of-type {\n",
       "        vertical-align: middle;\n",
       "    }\n",
       "\n",
       "    .dataframe tbody tr th {\n",
       "        vertical-align: top;\n",
       "    }\n",
       "\n",
       "    .dataframe thead th {\n",
       "        text-align: right;\n",
       "    }\n",
       "</style>\n",
       "<table border=\"1\" class=\"dataframe\">\n",
       "  <thead>\n",
       "    <tr style=\"text-align: right;\">\n",
       "      <th></th>\n",
       "      <th>fname</th>\n",
       "      <th>matrix_size</th>\n",
       "      <th>num_components</th>\n",
       "      <th>processor</th>\n",
       "      <th>total</th>\n",
       "      <th>transfer</th>\n",
       "      <th>solve</th>\n",
       "    </tr>\n",
       "  </thead>\n",
       "  <tbody>\n",
       "    <tr>\n",
       "      <td>0</td>\n",
       "      <td>rand_data/rand_size-003_density-002.csv</td>\n",
       "      <td>1</td>\n",
       "      <td>3</td>\n",
       "      <td>cuda</td>\n",
       "      <td>0.539095</td>\n",
       "      <td>0.253007</td>\n",
       "      <td>0.286088</td>\n",
       "    </tr>\n",
       "    <tr>\n",
       "      <td>1</td>\n",
       "      <td>rand_data/rand_size-003_density-002.csv</td>\n",
       "      <td>1</td>\n",
       "      <td>3</td>\n",
       "      <td>cpu</td>\n",
       "      <td>0.000956</td>\n",
       "      <td>0.000261</td>\n",
       "      <td>0.000695</td>\n",
       "    </tr>\n",
       "    <tr>\n",
       "      <td>2</td>\n",
       "      <td>rand_data/rand_size-004_density-002.csv</td>\n",
       "      <td>3</td>\n",
       "      <td>6</td>\n",
       "      <td>cuda</td>\n",
       "      <td>0.169986</td>\n",
       "      <td>0.000830</td>\n",
       "      <td>0.169155</td>\n",
       "    </tr>\n",
       "    <tr>\n",
       "      <td>3</td>\n",
       "      <td>rand_data/rand_size-004_density-002.csv</td>\n",
       "      <td>3</td>\n",
       "      <td>6</td>\n",
       "      <td>cpu</td>\n",
       "      <td>0.000709</td>\n",
       "      <td>0.000267</td>\n",
       "      <td>0.000442</td>\n",
       "    </tr>\n",
       "    <tr>\n",
       "      <td>4</td>\n",
       "      <td>rand_data/rand_size-005_density-002.csv</td>\n",
       "      <td>7</td>\n",
       "      <td>8</td>\n",
       "      <td>cuda</td>\n",
       "      <td>0.002514</td>\n",
       "      <td>0.000718</td>\n",
       "      <td>0.001796</td>\n",
       "    </tr>\n",
       "    <tr>\n",
       "      <td>...</td>\n",
       "      <td>...</td>\n",
       "      <td>...</td>\n",
       "      <td>...</td>\n",
       "      <td>...</td>\n",
       "      <td>...</td>\n",
       "      <td>...</td>\n",
       "      <td>...</td>\n",
       "    </tr>\n",
       "    <tr>\n",
       "      <td>215</td>\n",
       "      <td>rand_data/rand_size-022_density-010.csv</td>\n",
       "      <td>7169</td>\n",
       "      <td>20476</td>\n",
       "      <td>cpu</td>\n",
       "      <td>3.563336</td>\n",
       "      <td>0.013422</td>\n",
       "      <td>3.549914</td>\n",
       "    </tr>\n",
       "    <tr>\n",
       "      <td>216</td>\n",
       "      <td>rand_data/rand_size-023_density-010.csv</td>\n",
       "      <td>10098</td>\n",
       "      <td>28957</td>\n",
       "      <td>cuda</td>\n",
       "      <td>0.011335</td>\n",
       "      <td>0.000000</td>\n",
       "      <td>0.011335</td>\n",
       "    </tr>\n",
       "    <tr>\n",
       "      <td>217</td>\n",
       "      <td>rand_data/rand_size-023_density-010.csv</td>\n",
       "      <td>10098</td>\n",
       "      <td>28957</td>\n",
       "      <td>cpu</td>\n",
       "      <td>9.680842</td>\n",
       "      <td>0.018369</td>\n",
       "      <td>9.662474</td>\n",
       "    </tr>\n",
       "    <tr>\n",
       "      <td>218</td>\n",
       "      <td>rand_data/rand_size-024_density-010.csv</td>\n",
       "      <td>14311</td>\n",
       "      <td>40956</td>\n",
       "      <td>cuda</td>\n",
       "      <td>0.015637</td>\n",
       "      <td>0.000000</td>\n",
       "      <td>0.015637</td>\n",
       "    </tr>\n",
       "    <tr>\n",
       "      <td>219</td>\n",
       "      <td>rand_data/rand_size-024_density-010.csv</td>\n",
       "      <td>14311</td>\n",
       "      <td>40956</td>\n",
       "      <td>cpu</td>\n",
       "      <td>16.420432</td>\n",
       "      <td>0.024515</td>\n",
       "      <td>16.395917</td>\n",
       "    </tr>\n",
       "  </tbody>\n",
       "</table>\n",
       "<p>220 rows × 7 columns</p>\n",
       "</div>"
      ],
      "text/plain": [
       "                                       fname  matrix_size  num_components  \\\n",
       "0    rand_data/rand_size-003_density-002.csv            1               3   \n",
       "1    rand_data/rand_size-003_density-002.csv            1               3   \n",
       "2    rand_data/rand_size-004_density-002.csv            3               6   \n",
       "3    rand_data/rand_size-004_density-002.csv            3               6   \n",
       "4    rand_data/rand_size-005_density-002.csv            7               8   \n",
       "..                                       ...          ...             ...   \n",
       "215  rand_data/rand_size-022_density-010.csv         7169           20476   \n",
       "216  rand_data/rand_size-023_density-010.csv        10098           28957   \n",
       "217  rand_data/rand_size-023_density-010.csv        10098           28957   \n",
       "218  rand_data/rand_size-024_density-010.csv        14311           40956   \n",
       "219  rand_data/rand_size-024_density-010.csv        14311           40956   \n",
       "\n",
       "    processor      total  transfer      solve  \n",
       "0        cuda   0.539095  0.253007   0.286088  \n",
       "1         cpu   0.000956  0.000261   0.000695  \n",
       "2        cuda   0.169986  0.000830   0.169155  \n",
       "3         cpu   0.000709  0.000267   0.000442  \n",
       "4        cuda   0.002514  0.000718   0.001796  \n",
       "..        ...        ...       ...        ...  \n",
       "215       cpu   3.563336  0.013422   3.549914  \n",
       "216      cuda   0.011335  0.000000   0.011335  \n",
       "217       cpu   9.680842  0.018369   9.662474  \n",
       "218      cuda   0.015637  0.000000   0.015637  \n",
       "219       cpu  16.420432  0.024515  16.395917  \n",
       "\n",
       "[220 rows x 7 columns]"
      ]
     },
     "execution_count": 2,
     "metadata": {},
     "output_type": "execute_result"
    }
   ],
   "source": [
    "df = pd.read_csv(\"stats.csv\")\n",
    "df = df.dropna()\n",
    "df"
   ]
  },
  {
   "cell_type": "markdown",
   "metadata": {},
   "source": [
    "Plotting the time taken versus the matrix size gives us the following:"
   ]
  },
  {
   "cell_type": "code",
   "execution_count": 3,
   "metadata": {
    "scrolled": false
   },
   "outputs": [
    {
     "data": {
      "text/plain": [
       "<matplotlib.axes._subplots.AxesSubplot at 0x128741110>"
      ]
     },
     "execution_count": 3,
     "metadata": {},
     "output_type": "execute_result"
    },
    {
     "data": {
      "image/png": "[encoded data removed]",
      "text/plain": [
       "<Figure size 432x288 with 1 Axes>"
      ]
     },
     "metadata": {
      "needs_background": "light"
     },
     "output_type": "display_data"
    }
   ],
   "source": [
    "sns.scatterplot(x=\"matrix_size\", y=\"solve\", hue=\"processor\", size=\"num_components\", data=df)"
   ]
  },
  {
   "cell_type": "markdown",
   "metadata": {},
   "source": [
    "# Analysis and Conclusion\n",
    "\n",
    "As we can see, oftentimes the GPU is far faster than the CPU. However, at very large matrix sizes this becomes problematic, and the data transfer overhead becomes far more dominant than the linear solver. As a result, the CPU becomes more efficient, as the GPU must pull memory from main memory before performing computations, which is a costly task.\n",
    "\n",
    "The Python wrapper may also have some overheard, and could be more efficient. Using a lower-level package may be more complicated but result in faster computations. However, comparing Python GPU packages is outside the scope of this project."
   ]
  }
 ],
 "metadata": {
  "kernelspec": {
   "display_name": "Python 3",
   "language": "python",
   "name": "python3"
  },
  "language_info": {
   "codemirror_mode": {
    "name": "ipython",
    "version": 3
   },
   "file_extension": ".py",
   "mimetype": "text/x-python",
   "name": "python",
   "nbconvert_exporter": "python",
   "pygments_lexer": "ipython3",
   "version": "3.7.5"
  }
 },
 "nbformat": 4,
 "nbformat_minor": 2
}
