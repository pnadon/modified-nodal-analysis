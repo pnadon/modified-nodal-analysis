{
 "cells": [
  {
   "cell_type": "markdown",
   "metadata": {},
   "source": [
    "# Modified Nodal Analysis: Project Report\n",
    "Author: Philippe Nadon\n",
    "\n",
    "Date: Nov 20, 2019"
   ]
  },
  {
   "cell_type": "markdown",
   "metadata": {},
   "source": [
    "## Introduction\n",
    "Oftentimes in electrical engineering, the voltage at each node in a circuit needs to be known to understand how the circuit works. As the complexity of the circuit grows, it becomes increasingly diﬃcult or even impossible to use many of the common ways of solving the circuit, let alone doing it by hand.\n",
    "\n"
   ]
  },
  {
   "cell_type": "markdown",
   "metadata": {},
   "source": [
    "## Introduction to Tool\n",
    "This project explores methods in which one can implement a circuit analysis tool, using [Modified Nodal Analysis](https://en.wikipedia.org/wiki/Modified_nodal_analysis). A large portion of the work in this project is thanks to [this tutorial](https://lpsa.swarthmore.edu/Systems/Electrical/mna/MNA1.html), which was immensely useful in developing this software."
   ]
  },
  {
   "cell_type": "code",
   "execution_count": 3,
   "metadata": {},
   "outputs": [],
   "source": [
    "import pandas as pd\n",
    "import numpy as np\n",
    "import seaborn as sns\n",
    "import matplotlib.pyplot as plt\n",
    "plt.rcParams['figure.figsize'] = [16,10]"
   ]
  },
  {
   "cell_type": "code",
   "execution_count": 13,
   "metadata": {
    "scrolled": false
   },
   "outputs": [
    {
     "data": {
      "text/html": [
       "<div>\n",
       "<style scoped>\n",
       "    .dataframe tbody tr th:only-of-type {\n",
       "        vertical-align: middle;\n",
       "    }\n",
       "\n",
       "    .dataframe tbody tr th {\n",
       "        vertical-align: top;\n",
       "    }\n",
       "\n",
       "    .dataframe thead th {\n",
       "        text-align: right;\n",
       "    }\n",
       "</style>\n",
       "<table border=\"1\" class=\"dataframe\">\n",
       "  <thead>\n",
       "    <tr style=\"text-align: right;\">\n",
       "      <th></th>\n",
       "      <th>fname</th>\n",
       "      <th>matrix_size</th>\n",
       "      <th>num_components</th>\n",
       "      <th>processor</th>\n",
       "      <th>total</th>\n",
       "      <th>transfer</th>\n",
       "      <th>solve</th>\n",
       "    </tr>\n",
       "  </thead>\n",
       "  <tbody>\n",
       "    <tr>\n",
       "      <td>0</td>\n",
       "      <td>rand_data/rand_size-003_density-002.csv</td>\n",
       "      <td>1</td>\n",
       "      <td>3</td>\n",
       "      <td>cuda</td>\n",
       "      <td>0.539095</td>\n",
       "      <td>0.253007</td>\n",
       "      <td>0.286088</td>\n",
       "    </tr>\n",
       "    <tr>\n",
       "      <td>1</td>\n",
       "      <td>rand_data/rand_size-003_density-002.csv</td>\n",
       "      <td>1</td>\n",
       "      <td>3</td>\n",
       "      <td>cpu</td>\n",
       "      <td>0.000956</td>\n",
       "      <td>0.000261</td>\n",
       "      <td>0.000695</td>\n",
       "    </tr>\n",
       "    <tr>\n",
       "      <td>2</td>\n",
       "      <td>rand_data/rand_size-004_density-002.csv</td>\n",
       "      <td>3</td>\n",
       "      <td>6</td>\n",
       "      <td>cuda</td>\n",
       "      <td>0.169986</td>\n",
       "      <td>0.000830</td>\n",
       "      <td>0.169155</td>\n",
       "    </tr>\n",
       "    <tr>\n",
       "      <td>3</td>\n",
       "      <td>rand_data/rand_size-004_density-002.csv</td>\n",
       "      <td>3</td>\n",
       "      <td>6</td>\n",
       "      <td>cpu</td>\n",
       "      <td>0.000709</td>\n",
       "      <td>0.000267</td>\n",
       "      <td>0.000442</td>\n",
       "    </tr>\n",
       "    <tr>\n",
       "      <td>4</td>\n",
       "      <td>rand_data/rand_size-005_density-002.csv</td>\n",
       "      <td>7</td>\n",
       "      <td>8</td>\n",
       "      <td>cuda</td>\n",
       "      <td>0.002514</td>\n",
       "      <td>0.000718</td>\n",
       "      <td>0.001796</td>\n",
       "    </tr>\n",
       "    <tr>\n",
       "      <td>...</td>\n",
       "      <td>...</td>\n",
       "      <td>...</td>\n",
       "      <td>...</td>\n",
       "      <td>...</td>\n",
       "      <td>...</td>\n",
       "      <td>...</td>\n",
       "      <td>...</td>\n",
       "    </tr>\n",
       "    <tr>\n",
       "      <td>215</td>\n",
       "      <td>rand_data/rand_size-022_density-010.csv</td>\n",
       "      <td>7169</td>\n",
       "      <td>20476</td>\n",
       "      <td>cpu</td>\n",
       "      <td>3.563336</td>\n",
       "      <td>0.013422</td>\n",
       "      <td>3.549914</td>\n",
       "    </tr>\n",
       "    <tr>\n",
       "      <td>216</td>\n",
       "      <td>rand_data/rand_size-023_density-010.csv</td>\n",
       "      <td>10098</td>\n",
       "      <td>28957</td>\n",
       "      <td>cuda</td>\n",
       "      <td>0.011335</td>\n",
       "      <td>0.000000</td>\n",
       "      <td>0.011335</td>\n",
       "    </tr>\n",
       "    <tr>\n",
       "      <td>217</td>\n",
       "      <td>rand_data/rand_size-023_density-010.csv</td>\n",
       "      <td>10098</td>\n",
       "      <td>28957</td>\n",
       "      <td>cpu</td>\n",
       "      <td>9.680842</td>\n",
       "      <td>0.018369</td>\n",
       "      <td>9.662474</td>\n",
       "    </tr>\n",
       "    <tr>\n",
       "      <td>218</td>\n",
       "      <td>rand_data/rand_size-024_density-010.csv</td>\n",
       "      <td>14311</td>\n",
       "      <td>40956</td>\n",
       "      <td>cuda</td>\n",
       "      <td>0.015637</td>\n",
       "      <td>0.000000</td>\n",
       "      <td>0.015637</td>\n",
       "    </tr>\n",
       "    <tr>\n",
       "      <td>219</td>\n",
       "      <td>rand_data/rand_size-024_density-010.csv</td>\n",
       "      <td>14311</td>\n",
       "      <td>40956</td>\n",
       "      <td>cpu</td>\n",
       "      <td>16.420432</td>\n",
       "      <td>0.024515</td>\n",
       "      <td>16.395917</td>\n",
       "    </tr>\n",
       "  </tbody>\n",
       "</table>\n",
       "<p>220 rows × 7 columns</p>\n",
       "</div>"
      ],
      "text/plain": [
       "                                       fname  matrix_size  num_components  \\\n",
       "0    rand_data/rand_size-003_density-002.csv            1               3   \n",
       "1    rand_data/rand_size-003_density-002.csv            1               3   \n",
       "2    rand_data/rand_size-004_density-002.csv            3               6   \n",
       "3    rand_data/rand_size-004_density-002.csv            3               6   \n",
       "4    rand_data/rand_size-005_density-002.csv            7               8   \n",
       "..                                       ...          ...             ...   \n",
       "215  rand_data/rand_size-022_density-010.csv         7169           20476   \n",
       "216  rand_data/rand_size-023_density-010.csv        10098           28957   \n",
       "217  rand_data/rand_size-023_density-010.csv        10098           28957   \n",
       "218  rand_data/rand_size-024_density-010.csv        14311           40956   \n",
       "219  rand_data/rand_size-024_density-010.csv        14311           40956   \n",
       "\n",
       "    processor      total  transfer      solve  \n",
       "0        cuda   0.539095  0.253007   0.286088  \n",
       "1         cpu   0.000956  0.000261   0.000695  \n",
       "2        cuda   0.169986  0.000830   0.169155  \n",
       "3         cpu   0.000709  0.000267   0.000442  \n",
       "4        cuda   0.002514  0.000718   0.001796  \n",
       "..        ...        ...       ...        ...  \n",
       "215       cpu   3.563336  0.013422   3.549914  \n",
       "216      cuda   0.011335  0.000000   0.011335  \n",
       "217       cpu   9.680842  0.018369   9.662474  \n",
       "218      cuda   0.015637  0.000000   0.015637  \n",
       "219       cpu  16.420432  0.024515  16.395917  \n",
       "\n",
       "[220 rows x 7 columns]"
      ]
     },
     "execution_count": 13,
     "metadata": {},
     "output_type": "execute_result"
    }
   ],
   "source": [
    "df = pd.read_csv(\"stats.csv\")\n",
    "df = df.dropna()\n",
    "df"
   ]
  },
  {
   "cell_type": "code",
   "execution_count": 14,
   "metadata": {
    "scrolled": false
   },
   "outputs": [
    {
     "data": {
      "text/plain": [
       "<matplotlib.axes._subplots.AxesSubplot at 0x135337890>"
      ]
     },
     "execution_count": 14,
     "metadata": {},
     "output_type": "execute_result"
    },
    {
     "data": {
      "image/png": "[encoded data removed]",
      "text/plain": [
       "<Figure size 1152x720 with 1 Axes>"
      ]
     },
     "metadata": {
      "needs_background": "light"
     },
     "output_type": "display_data"
    }
   ],
   "source": [
    "sns.scatterplot(x=\"matrix_size\", y=\"solve\", hue=\"processor\", size=\"num_components\", data=df)"
   ]
  },
  {
   "cell_type": "code",
   "execution_count": null,
   "metadata": {},
   "outputs": [],
   "source": []
  }
 ],
 "metadata": {
  "kernelspec": {
   "display_name": "Python 3",
   "language": "python",
   "name": "python3"
  },
  "language_info": {
   "codemirror_mode": {
    "name": "ipython",
    "version": 3
   },
   "file_extension": ".py",
   "mimetype": "text/x-python",
   "name": "python",
   "nbconvert_exporter": "python",
   "pygments_lexer": "ipython3",
   "version": "3.7.5"
  }
 },
 "nbformat": 4,
 "nbformat_minor": 2
}
